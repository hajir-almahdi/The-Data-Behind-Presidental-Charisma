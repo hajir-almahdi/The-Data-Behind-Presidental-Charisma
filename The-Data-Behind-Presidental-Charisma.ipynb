{
 "cells": [
  {
   "cell_type": "markdown",
   "metadata": {},
   "source": [
    "# The Data Behind  Presidental Charisma "
   ]
  },
  {
   "cell_type": "markdown",
   "metadata": {},
   "source": [
    "## Introduction "
   ]
  },
  {
   "cell_type": "markdown",
   "metadata": {},
   "source": [
    "Artificial Intelligence (AI) revolution is based in some ways on machines ability to understand and interact with humans, Natural language processing (NLP) is simply the part of AI that has to do with language. It is concerned with the interactions between computers and human (natural) languages, in particular how to program computers to process and analyze large amounts of natural language data. A few examples of NLP applications include automatic summarization, topic segmentation, and sentiment analysis.\n",
    "\n",
    "Text-based communication has become one of the most common forms of expression. Unstructured text data we produce daily has become extremely common, texts, emials, posts, tweets etc. Analyzing large quantities of text data is now a key way to understand what people are thinking. Presidential speeches provide an ideal text collection to detect patternes, quantify some charctarists and test and practice NLP, espcailly if you're very new to this. \n",
    "\n",
    "Charismatic qualities of leaders,emphsizes how these leaders communicate to thier followers and whether they are able to gain their trust, and influence and persuade them to follow.\n",
    "\n",
    "In this analysis, I was set to find out if there is any correlation between Presidental Charisma and how well a given president performes in the office. Since a lot of people are pursated to vote for a certain preisdent based on their public appeal during public appearances such as speeches and debates. Is it a right call to vote for a president based on how 'charsmatic' they are? \n",
    "\n",
    "\n",
    "\n",
    "The data analysis behind answering this is structured as follows : \n",
    "\n",
    "- Gather all presidental speeches. \n",
    "- Identify what makes a speech charismatic and measure that charisma. \n",
    "- Rank presidental performance in office. \n",
    "- Check for any correlation between the two varibles\n",
    " \n"
   ]
  },
  {
   "cell_type": "markdown",
   "metadata": {},
   "source": [
    "# Gathering Data : \n",
    "\n",
    "### - Web Scraping Speeches :\n",
    "\n",
    "Scrapping content of all presidential speeches recorded in American history is essential in this analysis, with use of Selenium and BeautifulSoup libraries, the Miller Center orginization contains the transcprits of these speeches. The code below scrapes these transcripts into a dictionary with the name of the president and the corsponding speech. "
   ]
  },
  {
   "cell_type": "code",
   "execution_count": 1,
   "metadata": {},
   "outputs": [],
   "source": [
    "#packages for web scrapping \n",
    "from selenium import webdriver\n",
    "from selenium.webdriver.common.keys import Keys \n",
    "import time\n",
    "from bs4 import BeautifulSoup\n",
    "import requests \n",
    "import re"
   ]
  },
  {
   "cell_type": "code",
   "execution_count": 2,
   "metadata": {},
   "outputs": [],
   "source": [
    "#browser to access the link of presidental speeches \n",
    "browser = webdriver.Chrome()\n",
    "browser.get('https://millercenter.org/the-presidency/presidential-speeches')"
   ]
  },
  {
   "cell_type": "code",
   "execution_count": 3,
   "metadata": {},
   "outputs": [],
   "source": [
    "# defining tag of speeches needed for scrapping \n",
    "elem = browser.find_element_by_tag_name('body')"
   ]
  },
  {
   "cell_type": "code",
   "execution_count": 4,
   "metadata": {},
   "outputs": [],
   "source": [
    "\n",
    "# number of times browser should scroll to get to last speech \n",
    "no_of_pagedowns = 805"
   ]
  },
  {
   "cell_type": "code",
   "execution_count": 5,
   "metadata": {},
   "outputs": [],
   "source": [
    "#while loop for scrolling \n",
    "while no_of_pagedowns: \n",
    "    elem.send_keys(Keys.PAGE_DOWN)\n",
    "    time.sleep(0.2)\n",
    "    no_of_pagedowns-=1"
   ]
  },
  {
   "cell_type": "code",
   "execution_count": 6,
   "metadata": {},
   "outputs": [],
   "source": [
    "#setting selector for speeches \n",
    "post_links = browser.find_elements_by_css_selector(\".views-infinite-scroll-content-wrapper a\")\n"
   ]
  },
  {
   "cell_type": "code",
   "execution_count": 7,
   "metadata": {},
   "outputs": [],
   "source": [
    "#collecting links of each speech in list \n",
    "links = []\n",
    "for link in post_links: \n",
    "    href = link.get_attribute('href')\n",
    "    links.append(href)\n",
    "   "
   ]
  },
  {
   "cell_type": "code",
   "execution_count": 8,
   "metadata": {
    "scrolled": true
   },
   "outputs": [
    {
     "data": {
      "text/plain": [
       "985"
      ]
     },
     "execution_count": 8,
     "metadata": {},
     "output_type": "execute_result"
    }
   ],
   "source": [
    "#checking links, should be 985 link in total. \n",
    "len(links)"
   ]
  },
  {
   "cell_type": "code",
   "execution_count": 9,
   "metadata": {},
   "outputs": [],
   "source": [
    "#get_speech function to collect speech + president's name \n",
    "def get_speeches(link):\n",
    "    \n",
    "    html_body = requests.get(link).content\n",
    "    soup = BeautifulSoup(html_body,'html.parser')\n",
    "    transcript = soup.select('.transcript-inner p')\n",
    "    if len(transcript)<=0:\n",
    "        transcript = soup.select('.view-transcript p')\n",
    "    transcripts = [elem.get_text() for elem in transcript]\n",
    "    transcripts=[re.sub(\"\\((.*?)\\)\",\"\",elem) for elem in transcripts]\n",
    "    transcripts=[re.sub(\"(.*:)\",\"\",elem.strip()) for elem in transcripts]\n",
    "    speech = ''.join(transcripts)\n",
    "    president_name = soup.select('.president-name')[0]\n",
    "    president_name = president_name.get_text()\n",
    "    speech_dic = {'Name':president_name, 'Speech':speech}\n",
    "    return speech_dic"
   ]
  },
  {
   "cell_type": "code",
   "execution_count": 10,
   "metadata": {},
   "outputs": [],
   "source": [
    "presidental_speeches = list(map(get_speeches,links)) # loop through the extracted links and collect script "
   ]
  },
  {
   "cell_type": "code",
   "execution_count": 11,
   "metadata": {},
   "outputs": [],
   "source": [
    "Names = [d['Name'] for d in presidental_speeches] # extract presidents name list.\n",
    "Speeches = [d['Speech'] for d in presidental_speeches] #extracg presidents speeches. "
   ]
  },
  {
   "cell_type": "markdown",
   "metadata": {},
   "source": [
    "# Measuring Charisma : \n",
    "\n",
    "Charisma is hard to measure, after a long research, I came to the conclusion that in modern times leaders who deploy emotions, frame their vision and paint pictures of that vision with use of stories and metaphors are precived as charsmatic. So Charasmatic speech contains in a nutshell three important traits : \n",
    "\n",
    "- Use of personal opinion, emotion, stories and metaphors\n",
    "\n",
    "- Express sentiments, show confidence and deliever an positive message.\n",
    "\n",
    "- Simplicity of language used to resonate with variety of people. \n",
    "\n",
    "\n",
    "In this analysis, to measure these three components, three different measures were used :  \n",
    "\n",
    "- Ease of comprehension.\n",
    "\n",
    "- The positivity and negativity of text.\n",
    "\n",
    "- The subjectivity of text. \n",
    "\n",
    "\n",
    "Each of these components was measured using NLTK librabiers, TextBlob and Textstat. Readibilty measure, measures how easy the text is, in other words is it understandable? \n",
    "\n",
    "The polarity of a text referes to the overall message of the text, is it positive or negative? \n",
    "\n",
    "The subjectivity of a text is measured by calculating usage of personal opinion, emotion or stories in contrast to plain facts and numbers. "
   ]
  },
  {
   "cell_type": "markdown",
   "metadata": {},
   "source": [
    "## Readibilty of Speech : "
   ]
  },
  {
   "cell_type": "markdown",
   "metadata": {},
   "source": [
    "Flesch-Kincaid readability measures, developed by the United States Navy, are some of the popular measures. There are two metrics under this umbrella, namely, Flesch readability ease, and Flesch-Kincaid grade level. Flesch readability ease is used in this analysis provided by Textstat Library. \n",
    "\n",
    "- The Flesch reading ease measures a text difficulty based on two things : there are more words in a sentence on average, and the words are longer, or have more syllables. Where higher scores indicate material that is easier to read and understand; lower numbers mark passages that are more difficult to read. "
   ]
  },
  {
   "cell_type": "code",
   "execution_count": 12,
   "metadata": {},
   "outputs": [],
   "source": [
    "#packagaes for sentiment analysis and measuring text reading ease \n",
    "import nltk \n",
    "import pandas as pd\n",
    "from textstat.textstat import textstat\n",
    "import csv \n",
    "import numpy as np\n",
    "from textblob import TextBlob"
   ]
  },
  {
   "cell_type": "code",
   "execution_count": 13,
   "metadata": {},
   "outputs": [],
   "source": [
    "# returns the flesch reading ease score of a text \n",
    "def reading_ease(speech):\n",
    "    if speech =='': \n",
    "        score = 0\n",
    "    else: \n",
    "        score = textstat.flesch_reading_ease(speech)\n",
    "       \n",
    "        if score < 0: \n",
    "            score = 0   \n",
    "            \n",
    "    scores = {'flesch_reading_ease':score}\n",
    "    \n",
    "    return scores\n"
   ]
  },
  {
   "cell_type": "code",
   "execution_count": 14,
   "metadata": {},
   "outputs": [],
   "source": [
    "flesch_reading_ease = list(map(reading_ease,Speeches))"
   ]
  },
  {
   "cell_type": "code",
   "execution_count": 15,
   "metadata": {},
   "outputs": [],
   "source": [
    "flesch_reading_ease_scores = [d['flesch_reading_ease'] for d in flesch_reading_ease]"
   ]
  },
  {
   "cell_type": "markdown",
   "metadata": {},
   "source": [
    "## Sentiment Analysis :"
   ]
  },
  {
   "cell_type": "markdown",
   "metadata": {},
   "source": [
    "Sentiment analysis is basically the process of determining the attitude or the emotion of the writer, i.e., whether it is positive or negative or neutral.\n",
    "\n",
    "TextBlob library offers a lot of features like sentiment analysis, pos-tagging, noun phrase extraction, etc.  The sentiment function of textblob returns two properties, polarity, and subjectivity.\n",
    "\n",
    "- Polarity is float which lies in the range of [-1,1] where 1 means positive statement and -1 means a negative statement. \n",
    "\n",
    "- Subjective sentences generally refer to personal opinion, emotion or judgment whereas objective refers to factual information. Subjectivity is also a float which lies in the range of [0,1].  "
   ]
  },
  {
   "cell_type": "code",
   "execution_count": 16,
   "metadata": {},
   "outputs": [],
   "source": [
    "# returns the sentiment, polarity and subjectivity of a text \n",
    "def sentiment(speech): \n",
    "    text = TextBlob(speech)\n",
    "    subjectivity = text.sentiment.subjectivity\n",
    "    polarity = text.sentiment.polarity\n",
    "    sentiments = {'polarity':polarity, 'subjectivity':subjectivity}\n",
    "    return sentiments"
   ]
  },
  {
   "cell_type": "code",
   "execution_count": 17,
   "metadata": {},
   "outputs": [],
   "source": [
    "sentiment_analysis = list(map(sentiment,Speeches))"
   ]
  },
  {
   "cell_type": "code",
   "execution_count": 18,
   "metadata": {},
   "outputs": [
    {
     "data": {
      "text/plain": [
       "{'polarity': 0.20871146130292473, 'subjectivity': 0.4405606588533418}"
      ]
     },
     "execution_count": 18,
     "metadata": {},
     "output_type": "execute_result"
    }
   ],
   "source": [
    "#testing \n",
    "sentiment_analysis[984]"
   ]
  },
  {
   "cell_type": "code",
   "execution_count": 19,
   "metadata": {},
   "outputs": [],
   "source": [
    "polarity = [d['polarity'] for d in sentiment_analysis]"
   ]
  },
  {
   "cell_type": "code",
   "execution_count": 20,
   "metadata": {},
   "outputs": [],
   "source": [
    "subjectivity = [d['subjectivity'] for d in sentiment_analysis]"
   ]
  },
  {
   "cell_type": "code",
   "execution_count": 27,
   "metadata": {},
   "outputs": [],
   "source": [
    "# Gather data into pandas dataframe for measurments \n",
    "df = pd.DataFrame({\"President\": Names,\"flesch_reading_ease\": flesch_reading_ease_scores,\n",
    "                   \"polarity\": polarity, \"subjectivity\": subjectivity})"
   ]
  },
  {
   "cell_type": "code",
   "execution_count": 28,
   "metadata": {},
   "outputs": [
    {
     "data": {
      "text/html": [
       "<div>\n",
       "<style scoped>\n",
       "    .dataframe tbody tr th:only-of-type {\n",
       "        vertical-align: middle;\n",
       "    }\n",
       "\n",
       "    .dataframe tbody tr th {\n",
       "        vertical-align: top;\n",
       "    }\n",
       "\n",
       "    .dataframe thead th {\n",
       "        text-align: right;\n",
       "    }\n",
       "</style>\n",
       "<table border=\"1\" class=\"dataframe\">\n",
       "  <thead>\n",
       "    <tr style=\"text-align: right;\">\n",
       "      <th></th>\n",
       "      <th>President</th>\n",
       "      <th>flesch_reading_ease</th>\n",
       "      <th>polarity</th>\n",
       "      <th>subjectivity</th>\n",
       "    </tr>\n",
       "  </thead>\n",
       "  <tbody>\n",
       "    <tr>\n",
       "      <th>0</th>\n",
       "      <td>Donald Trump</td>\n",
       "      <td>71.85</td>\n",
       "      <td>0.129944</td>\n",
       "      <td>0.510395</td>\n",
       "    </tr>\n",
       "    <tr>\n",
       "      <th>1</th>\n",
       "      <td>Donald Trump</td>\n",
       "      <td>82.24</td>\n",
       "      <td>0.165819</td>\n",
       "      <td>0.525015</td>\n",
       "    </tr>\n",
       "    <tr>\n",
       "      <th>2</th>\n",
       "      <td>Donald Trump</td>\n",
       "      <td>62.72</td>\n",
       "      <td>0.049333</td>\n",
       "      <td>0.532011</td>\n",
       "    </tr>\n",
       "    <tr>\n",
       "      <th>3</th>\n",
       "      <td>Donald Trump</td>\n",
       "      <td>71.04</td>\n",
       "      <td>0.244721</td>\n",
       "      <td>0.543147</td>\n",
       "    </tr>\n",
       "    <tr>\n",
       "      <th>4</th>\n",
       "      <td>Donald Trump</td>\n",
       "      <td>50.60</td>\n",
       "      <td>0.113688</td>\n",
       "      <td>0.476655</td>\n",
       "    </tr>\n",
       "  </tbody>\n",
       "</table>\n",
       "</div>"
      ],
      "text/plain": [
       "      President  flesch_reading_ease  polarity  subjectivity\n",
       "0  Donald Trump                71.85  0.129944      0.510395\n",
       "1  Donald Trump                82.24  0.165819      0.525015\n",
       "2  Donald Trump                62.72  0.049333      0.532011\n",
       "3  Donald Trump                71.04  0.244721      0.543147\n",
       "4  Donald Trump                50.60  0.113688      0.476655"
      ]
     },
     "execution_count": 28,
     "metadata": {},
     "output_type": "execute_result"
    }
   ],
   "source": [
    "df.head()"
   ]
  },
  {
   "cell_type": "code",
   "execution_count": 29,
   "metadata": {
    "scrolled": true
   },
   "outputs": [],
   "source": [
    "#Standerizing all data by normilizing it between 0 and 1\n",
    "\n",
    "from sklearn import preprocessing\n",
    "%matplotlib inline\n",
    "\n",
    "x = df[['flesch_reading_ease','polarity','subjectivity']].values.astype(float)\n",
    "\n",
    "min_max_scaler = preprocessing.MinMaxScaler()\n",
    "\n",
    "x_scaled = min_max_scaler.fit_transform(x)\n",
    "\n",
    "# Run the normalizer on the dataframe\n",
    "df[['flesch_reading_ease','polarity','subjectivity']] = pd.DataFrame(x_scaled)\n"
   ]
  },
  {
   "cell_type": "code",
   "execution_count": 31,
   "metadata": {
    "scrolled": true
   },
   "outputs": [
    {
     "data": {
      "text/html": [
       "<div>\n",
       "<style scoped>\n",
       "    .dataframe tbody tr th:only-of-type {\n",
       "        vertical-align: middle;\n",
       "    }\n",
       "\n",
       "    .dataframe tbody tr th {\n",
       "        vertical-align: top;\n",
       "    }\n",
       "\n",
       "    .dataframe thead th {\n",
       "        text-align: right;\n",
       "    }\n",
       "</style>\n",
       "<table border=\"1\" class=\"dataframe\">\n",
       "  <thead>\n",
       "    <tr style=\"text-align: right;\">\n",
       "      <th></th>\n",
       "      <th>President</th>\n",
       "      <th>flesch_reading_ease</th>\n",
       "      <th>polarity</th>\n",
       "      <th>subjectivity</th>\n",
       "    </tr>\n",
       "  </thead>\n",
       "  <tbody>\n",
       "    <tr>\n",
       "      <th>0</th>\n",
       "      <td>Donald Trump</td>\n",
       "      <td>0.873662</td>\n",
       "      <td>0.501889</td>\n",
       "      <td>0.838636</td>\n",
       "    </tr>\n",
       "    <tr>\n",
       "      <th>1</th>\n",
       "      <td>Donald Trump</td>\n",
       "      <td>1.000000</td>\n",
       "      <td>0.584654</td>\n",
       "      <td>0.862659</td>\n",
       "    </tr>\n",
       "    <tr>\n",
       "      <th>2</th>\n",
       "      <td>Donald Trump</td>\n",
       "      <td>0.762646</td>\n",
       "      <td>0.315917</td>\n",
       "      <td>0.874153</td>\n",
       "    </tr>\n",
       "    <tr>\n",
       "      <th>3</th>\n",
       "      <td>Donald Trump</td>\n",
       "      <td>0.863813</td>\n",
       "      <td>0.766684</td>\n",
       "      <td>0.892451</td>\n",
       "    </tr>\n",
       "    <tr>\n",
       "      <th>4</th>\n",
       "      <td>Donald Trump</td>\n",
       "      <td>0.615272</td>\n",
       "      <td>0.464386</td>\n",
       "      <td>0.783198</td>\n",
       "    </tr>\n",
       "  </tbody>\n",
       "</table>\n",
       "</div>"
      ],
      "text/plain": [
       "      President  flesch_reading_ease  polarity  subjectivity\n",
       "0  Donald Trump             0.873662  0.501889      0.838636\n",
       "1  Donald Trump             1.000000  0.584654      0.862659\n",
       "2  Donald Trump             0.762646  0.315917      0.874153\n",
       "3  Donald Trump             0.863813  0.766684      0.892451\n",
       "4  Donald Trump             0.615272  0.464386      0.783198"
      ]
     },
     "execution_count": 31,
     "metadata": {},
     "output_type": "execute_result"
    }
   ],
   "source": [
    "df.head()"
   ]
  },
  {
   "cell_type": "markdown",
   "metadata": {},
   "source": [
    "# Quantifying Charisma : \n",
    " \n",
    "Charisma is defined as the mean of Flesch Reading Ease, Polarity and Subjectivity of each president throughout all of the collected speechs. "
   ]
  },
  {
   "cell_type": "code",
   "execution_count": 32,
   "metadata": {},
   "outputs": [],
   "source": [
    "df = df.groupby('President', as_index=False).mean()"
   ]
  },
  {
   "cell_type": "code",
   "execution_count": 37,
   "metadata": {
    "scrolled": true
   },
   "outputs": [
    {
     "data": {
      "text/html": [
       "<div>\n",
       "<style scoped>\n",
       "    .dataframe tbody tr th:only-of-type {\n",
       "        vertical-align: middle;\n",
       "    }\n",
       "\n",
       "    .dataframe tbody tr th {\n",
       "        vertical-align: top;\n",
       "    }\n",
       "\n",
       "    .dataframe thead th {\n",
       "        text-align: right;\n",
       "    }\n",
       "</style>\n",
       "<table border=\"1\" class=\"dataframe\">\n",
       "  <thead>\n",
       "    <tr style=\"text-align: right;\">\n",
       "      <th></th>\n",
       "      <th>President</th>\n",
       "      <th>flesch_reading_ease</th>\n",
       "      <th>polarity</th>\n",
       "      <th>subjectivity</th>\n",
       "      <th>charisma</th>\n",
       "    </tr>\n",
       "  </thead>\n",
       "  <tbody>\n",
       "    <tr>\n",
       "      <th>0</th>\n",
       "      <td>Abraham Lincoln</td>\n",
       "      <td>0.561868</td>\n",
       "      <td>0.513128</td>\n",
       "      <td>0.756348</td>\n",
       "      <td>0.610448</td>\n",
       "    </tr>\n",
       "    <tr>\n",
       "      <th>1</th>\n",
       "      <td>Andrew Jackson</td>\n",
       "      <td>0.227280</td>\n",
       "      <td>0.450367</td>\n",
       "      <td>0.717766</td>\n",
       "      <td>0.465138</td>\n",
       "    </tr>\n",
       "    <tr>\n",
       "      <th>2</th>\n",
       "      <td>Andrew Johnson</td>\n",
       "      <td>0.376353</td>\n",
       "      <td>0.365374</td>\n",
       "      <td>0.687275</td>\n",
       "      <td>0.476334</td>\n",
       "    </tr>\n",
       "    <tr>\n",
       "      <th>3</th>\n",
       "      <td>Barack Obama</td>\n",
       "      <td>0.156021</td>\n",
       "      <td>0.508494</td>\n",
       "      <td>0.741195</td>\n",
       "      <td>0.468570</td>\n",
       "    </tr>\n",
       "    <tr>\n",
       "      <th>4</th>\n",
       "      <td>Benjamin Harrison</td>\n",
       "      <td>0.476596</td>\n",
       "      <td>0.505209</td>\n",
       "      <td>0.773919</td>\n",
       "      <td>0.585241</td>\n",
       "    </tr>\n",
       "  </tbody>\n",
       "</table>\n",
       "</div>"
      ],
      "text/plain": [
       "           President  flesch_reading_ease  polarity  subjectivity  charisma\n",
       "0    Abraham Lincoln             0.561868  0.513128      0.756348  0.610448\n",
       "1     Andrew Jackson             0.227280  0.450367      0.717766  0.465138\n",
       "2     Andrew Johnson             0.376353  0.365374      0.687275  0.476334\n",
       "3       Barack Obama             0.156021  0.508494      0.741195  0.468570\n",
       "4  Benjamin Harrison             0.476596  0.505209      0.773919  0.585241"
      ]
     },
     "execution_count": 37,
     "metadata": {},
     "output_type": "execute_result"
    }
   ],
   "source": [
    "df['charisma'] = df[['flesch_reading_ease','polarity','subjectivity']].mean(axis=1)\n",
    "df.head()"
   ]
  },
  {
   "cell_type": "code",
   "execution_count": 38,
   "metadata": {},
   "outputs": [],
   "source": [
    "df = df.groupby('President', as_index=True).mean()"
   ]
  },
  {
   "cell_type": "code",
   "execution_count": 39,
   "metadata": {},
   "outputs": [
    {
     "data": {
      "image/png": "[encoded data removed]",
      "text/plain": [
       "<Figure size 1152x576 with 1 Axes>"
      ]
     },
     "metadata": {
      "needs_background": "light"
     },
     "output_type": "display_data"
    }
   ],
   "source": [
    "# president sorted by charisma \n",
    "df_csorted = df.sort_values('charisma',ascending=False) \n",
    "df_csorted['charisma'].plot(kind='bar',color='DarkRed',figsize=(16,8));"
   ]
  },
  {
   "cell_type": "markdown",
   "metadata": {},
   "source": [
    "From the graph of Fletch reading ease, Trump has the highest reading ease since Truman, which is around fifth grade level, very easy to read. This translates to being easily understood by an average 11-year-old student, the simplist since Harry Truman, who speaks at nearly a sixth-grade level. \n",
    "\n",
    "We can see also that most presidents from 40 years ago have average around 7th grade level, fairly easy to read english.\n",
    "expect Jimmy Carter who speaks at level of 8th to 9th grade. \n",
    "\n",
    "Speaking to a large audience means speaking in ways we can all understand and knowing what language will resonate with a certain crowd could get you far. We can also notice the simplification of langauage across the years, since it went from being at College level, difficult to read to being easily understood by high school students or in today's politics understood by fifth graders. \n",
    "\n",
    "It should be taken into account that the charisma measure will depend on the fletch reading ease, meaning scoring high on this reading ease will translate to being more charsmatic. "
   ]
  },
  {
   "cell_type": "markdown",
   "metadata": {},
   "source": [
    "# Performance Measure : Presidental Historian Surveys \n",
    "\n",
    "The presidental historian surveys ranks presidents based on different factors, C-SPAN's academic advisors devised a survey in which participants used a one (\"not effective\") to ten (\"very effective\") scale to rate each president on ten qualities of presidential leadership: \n",
    "\n",
    "- Public Persuasion \n",
    "- Crisis Leadership\n",
    "- Economic Management\n",
    "- Moral Authority\n",
    "- International Relations\n",
    "- Administrative Skills\n",
    "- Relations with Congress\n",
    "- Vision/Setting An Agenda\n",
    "- Pursued Equal Justice for All\n",
    "- Performance Within the Context of His Times \n",
    "\n",
    "The link to the survey can be found in resources below. However, Donlad Trump is excluded from this ranking, even though he has the highest 'charisma' because it ranks completed time at the office. That would result in his exclusion from the final results.  "
   ]
  },
  {
   "cell_type": "code",
   "execution_count": 183,
   "metadata": {
    "scrolled": true
   },
   "outputs": [],
   "source": [
    "url_rank = 'https://www.c-span.org/presidentsurvey2017/?page=overall'\n",
    "r = requests.get(url_rank).text\n",
    "soup = BeautifulSoup(r,'lxml')\n",
    "table = soup.find('table')\n",
    "A=[]\n",
    "B=[]\n",
    "\n",
    "for row in table.findAll('tr'):\n",
    "    cells = row.findAll('td')\n",
    "    if len(cells)==5: #Only extract date column with no heading\n",
    "            A.append(cells[0].find(text=True)) #president name \n",
    "            B.append(cells[1].find(text=True)) # ranking \n",
    "    "
   ]
  },
  {
   "cell_type": "code",
   "execution_count": 184,
   "metadata": {},
   "outputs": [],
   "source": [
    "#fixing name variations in the list \n",
    "A[23] ='William Taft'\n",
    "A[15]='William McKinley'\n",
    "A[9]= 'Lyndon B. Johnson'\n",
    "A[24]='Gerald Ford'\n",
    "A[37]= 'William Harrison'\n",
    "A[27]= 'Richard Nixon'"
   ]
  },
  {
   "cell_type": "code",
   "execution_count": 185,
   "metadata": {
    "scrolled": true
   },
   "outputs": [
    {
     "data": {
      "text/html": [
       "<div>\n",
       "<style scoped>\n",
       "    .dataframe tbody tr th:only-of-type {\n",
       "        vertical-align: middle;\n",
       "    }\n",
       "\n",
       "    .dataframe tbody tr th {\n",
       "        vertical-align: top;\n",
       "    }\n",
       "\n",
       "    .dataframe thead th {\n",
       "        text-align: right;\n",
       "    }\n",
       "</style>\n",
       "<table border=\"1\" class=\"dataframe\">\n",
       "  <thead>\n",
       "    <tr style=\"text-align: right;\">\n",
       "      <th></th>\n",
       "      <th>President</th>\n",
       "      <th>rank</th>\n",
       "    </tr>\n",
       "  </thead>\n",
       "  <tbody>\n",
       "    <tr>\n",
       "      <th>0</th>\n",
       "      <td>Abraham Lincoln</td>\n",
       "      <td>906</td>\n",
       "    </tr>\n",
       "    <tr>\n",
       "      <th>1</th>\n",
       "      <td>George Washington</td>\n",
       "      <td>867</td>\n",
       "    </tr>\n",
       "    <tr>\n",
       "      <th>2</th>\n",
       "      <td>Franklin D. Roosevelt</td>\n",
       "      <td>854</td>\n",
       "    </tr>\n",
       "    <tr>\n",
       "      <th>3</th>\n",
       "      <td>Theodore Roosevelt</td>\n",
       "      <td>807</td>\n",
       "    </tr>\n",
       "    <tr>\n",
       "      <th>4</th>\n",
       "      <td>Dwight D. Eisenhower</td>\n",
       "      <td>744</td>\n",
       "    </tr>\n",
       "  </tbody>\n",
       "</table>\n",
       "</div>"
      ],
      "text/plain": [
       "               President rank\n",
       "0        Abraham Lincoln  906\n",
       "1      George Washington  867\n",
       "2  Franklin D. Roosevelt  854\n",
       "3     Theodore Roosevelt  807\n",
       "4   Dwight D. Eisenhower  744"
      ]
     },
     "execution_count": 185,
     "metadata": {},
     "output_type": "execute_result"
    }
   ],
   "source": [
    "df_ranks = pd.DataFrame({\"President\": A, 'rank':B})\n",
    "df_ranks.head()"
   ]
  },
  {
   "cell_type": "code",
   "execution_count": 186,
   "metadata": {},
   "outputs": [],
   "source": [
    "#Normalzing ranks \n",
    "x = df_ranks[['rank']].values.astype(float)\n",
    "\n",
    "min_max_scaler = preprocessing.MinMaxScaler()\n",
    "\n",
    "x_scaled = min_max_scaler.fit_transform(x)\n",
    "\n",
    "df_ranks[['rank']] = pd.DataFrame(x_scaled)\n"
   ]
  },
  {
   "cell_type": "code",
   "execution_count": 187,
   "metadata": {
    "scrolled": true
   },
   "outputs": [
    {
     "data": {
      "text/html": [
       "<div>\n",
       "<style scoped>\n",
       "    .dataframe tbody tr th:only-of-type {\n",
       "        vertical-align: middle;\n",
       "    }\n",
       "\n",
       "    .dataframe tbody tr th {\n",
       "        vertical-align: top;\n",
       "    }\n",
       "\n",
       "    .dataframe thead th {\n",
       "        text-align: right;\n",
       "    }\n",
       "</style>\n",
       "<table border=\"1\" class=\"dataframe\">\n",
       "  <thead>\n",
       "    <tr style=\"text-align: right;\">\n",
       "      <th></th>\n",
       "      <th>President</th>\n",
       "      <th>flesch_reading_ease</th>\n",
       "      <th>polarity</th>\n",
       "      <th>subjectivity</th>\n",
       "      <th>charisma</th>\n",
       "      <th>rank</th>\n",
       "    </tr>\n",
       "  </thead>\n",
       "  <tbody>\n",
       "    <tr>\n",
       "      <th>0</th>\n",
       "      <td>Abraham Lincoln</td>\n",
       "      <td>0.650583</td>\n",
       "      <td>0.513128</td>\n",
       "      <td>0.756348</td>\n",
       "      <td>0.640020</td>\n",
       "      <td>1.000000</td>\n",
       "    </tr>\n",
       "    <tr>\n",
       "      <th>1</th>\n",
       "      <td>Andrew Jackson</td>\n",
       "      <td>0.322512</td>\n",
       "      <td>0.450367</td>\n",
       "      <td>0.717766</td>\n",
       "      <td>0.496882</td>\n",
       "      <td>0.550681</td>\n",
       "    </tr>\n",
       "    <tr>\n",
       "      <th>2</th>\n",
       "      <td>Andrew Johnson</td>\n",
       "      <td>0.372695</td>\n",
       "      <td>0.365374</td>\n",
       "      <td>0.687275</td>\n",
       "      <td>0.475115</td>\n",
       "      <td>0.045386</td>\n",
       "    </tr>\n",
       "    <tr>\n",
       "      <th>3</th>\n",
       "      <td>Barack Obama</td>\n",
       "      <td>0.764530</td>\n",
       "      <td>0.508494</td>\n",
       "      <td>0.741195</td>\n",
       "      <td>0.671406</td>\n",
       "      <td>0.639939</td>\n",
       "    </tr>\n",
       "    <tr>\n",
       "      <th>4</th>\n",
       "      <td>Benjamin Harrison</td>\n",
       "      <td>0.496906</td>\n",
       "      <td>0.505209</td>\n",
       "      <td>0.773919</td>\n",
       "      <td>0.592011</td>\n",
       "      <td>0.326778</td>\n",
       "    </tr>\n",
       "  </tbody>\n",
       "</table>\n",
       "</div>"
      ],
      "text/plain": [
       "           President  flesch_reading_ease  polarity  subjectivity  charisma  \\\n",
       "0    Abraham Lincoln             0.650583  0.513128      0.756348  0.640020   \n",
       "1     Andrew Jackson             0.322512  0.450367      0.717766  0.496882   \n",
       "2     Andrew Johnson             0.372695  0.365374      0.687275  0.475115   \n",
       "3       Barack Obama             0.764530  0.508494      0.741195  0.671406   \n",
       "4  Benjamin Harrison             0.496906  0.505209      0.773919  0.592011   \n",
       "\n",
       "       rank  \n",
       "0  1.000000  \n",
       "1  0.550681  \n",
       "2  0.045386  \n",
       "3  0.639939  \n",
       "4  0.326778  "
      ]
     },
     "execution_count": 187,
     "metadata": {},
     "output_type": "execute_result"
    }
   ],
   "source": [
    "df = pd.merge(df,df_ranks,on='President')\n",
    "df.head()"
   ]
  },
  {
   "cell_type": "code",
   "execution_count": 188,
   "metadata": {},
   "outputs": [],
   "source": [
    "df = df.set_index('President')"
   ]
  },
  {
   "cell_type": "code",
   "execution_count": 189,
   "metadata": {
    "scrolled": false
   },
   "outputs": [
    {
     "data": {
      "text/html": [
       "<div>\n",
       "<style scoped>\n",
       "    .dataframe tbody tr th:only-of-type {\n",
       "        vertical-align: middle;\n",
       "    }\n",
       "\n",
       "    .dataframe tbody tr th {\n",
       "        vertical-align: top;\n",
       "    }\n",
       "\n",
       "    .dataframe thead th {\n",
       "        text-align: right;\n",
       "    }\n",
       "</style>\n",
       "<table border=\"1\" class=\"dataframe\">\n",
       "  <thead>\n",
       "    <tr style=\"text-align: right;\">\n",
       "      <th></th>\n",
       "      <th>flesch_reading_ease</th>\n",
       "      <th>polarity</th>\n",
       "      <th>subjectivity</th>\n",
       "      <th>charisma</th>\n",
       "      <th>rank</th>\n",
       "    </tr>\n",
       "    <tr>\n",
       "      <th>President</th>\n",
       "      <th></th>\n",
       "      <th></th>\n",
       "      <th></th>\n",
       "      <th></th>\n",
       "      <th></th>\n",
       "    </tr>\n",
       "  </thead>\n",
       "  <tbody>\n",
       "    <tr>\n",
       "      <th>Abraham Lincoln</th>\n",
       "      <td>0.650583</td>\n",
       "      <td>0.513128</td>\n",
       "      <td>0.756348</td>\n",
       "      <td>0.640020</td>\n",
       "      <td>1.000000</td>\n",
       "    </tr>\n",
       "    <tr>\n",
       "      <th>Andrew Jackson</th>\n",
       "      <td>0.322512</td>\n",
       "      <td>0.450367</td>\n",
       "      <td>0.717766</td>\n",
       "      <td>0.496882</td>\n",
       "      <td>0.550681</td>\n",
       "    </tr>\n",
       "    <tr>\n",
       "      <th>Andrew Johnson</th>\n",
       "      <td>0.372695</td>\n",
       "      <td>0.365374</td>\n",
       "      <td>0.687275</td>\n",
       "      <td>0.475115</td>\n",
       "      <td>0.045386</td>\n",
       "    </tr>\n",
       "    <tr>\n",
       "      <th>Barack Obama</th>\n",
       "      <td>0.764530</td>\n",
       "      <td>0.508494</td>\n",
       "      <td>0.741195</td>\n",
       "      <td>0.671406</td>\n",
       "      <td>0.639939</td>\n",
       "    </tr>\n",
       "    <tr>\n",
       "      <th>Benjamin Harrison</th>\n",
       "      <td>0.496906</td>\n",
       "      <td>0.505209</td>\n",
       "      <td>0.773919</td>\n",
       "      <td>0.592011</td>\n",
       "      <td>0.326778</td>\n",
       "    </tr>\n",
       "  </tbody>\n",
       "</table>\n",
       "</div>"
      ],
      "text/plain": [
       "                   flesch_reading_ease  polarity  subjectivity  charisma  \\\n",
       "President                                                                  \n",
       "Abraham Lincoln               0.650583  0.513128      0.756348  0.640020   \n",
       "Andrew Jackson                0.322512  0.450367      0.717766  0.496882   \n",
       "Andrew Johnson                0.372695  0.365374      0.687275  0.475115   \n",
       "Barack Obama                  0.764530  0.508494      0.741195  0.671406   \n",
       "Benjamin Harrison             0.496906  0.505209      0.773919  0.592011   \n",
       "\n",
       "                       rank  \n",
       "President                    \n",
       "Abraham Lincoln    1.000000  \n",
       "Andrew Jackson     0.550681  \n",
       "Andrew Johnson     0.045386  \n",
       "Barack Obama       0.639939  \n",
       "Benjamin Harrison  0.326778  "
      ]
     },
     "execution_count": 189,
     "metadata": {},
     "output_type": "execute_result"
    }
   ],
   "source": [
    "# final dataframe \n",
    "df.head()"
   ]
  },
  {
   "cell_type": "markdown",
   "metadata": {},
   "source": [
    "# Analysis and Results :"
   ]
  },
  {
   "cell_type": "markdown",
   "metadata": {},
   "source": [
    "In this part, the dataframe has been ordered by ranking to clearly observe any relationship between charisma and ranking score of each president. "
   ]
  },
  {
   "cell_type": "code",
   "execution_count": 190,
   "metadata": {},
   "outputs": [],
   "source": [
    "df_rsorted = df.sort_values('rank',ascending=False) #sort values by ranking "
   ]
  },
  {
   "cell_type": "code",
   "execution_count": 193,
   "metadata": {},
   "outputs": [
    {
     "data": {
      "image/png": "[encoded data removed]",
      "text/plain": [
       "<Figure size 1152x576 with 1 Axes>"
      ]
     },
     "metadata": {},
     "output_type": "display_data"
    }
   ],
   "source": [
    "df_rsorted[['charisma','rank']].plot(kind='bar',color=('r','DarkBlue','g'),figsize=(16,8));"
   ]
  },
  {
   "cell_type": "markdown",
   "metadata": {},
   "source": [
    "From this plot, presidents who performed good had good charisma but also those who've underperfromed had high charisma scores too. \n",
    "\n",
    "The time of presidentcy has an effect on charisma becasue of Fletch reading ease measure, langauge has developed throughout time, making what was preseved as charsmatic, complexity of speech to reflect a person's education for example vs. simplicity of speech nowdays, reflecting the high gcharisma of modern presidents like Obama, Regan, Clinton and so on. \n",
    "\n",
    "To further investigate  the prospect of any relationship between the two varibles, correlation function will be used alongside a scatterplot."
   ]
  },
  {
   "cell_type": "markdown",
   "metadata": {},
   "source": [
    "# Correlation Between Charisma and Ranking : \n",
    "\n",
    "\n",
    "The term \"correlation\" refers to a mutual relationship or association between quantities. \n",
    "\n",
    "With use of pandas corr() function, the prospect of a relationship between ranking and charisma is explored. \n",
    "The figure below shows scatter plot of the Pearson correlation. Note that the two varibles are independent, where correlation between them is equal to $0.3148$, signifying a slight positive correlation between the two varibles. However, assuming any kind of relationship will need more comprehensive way of measuring charisma, but for now we can conclude there is no relationship between the two. \n",
    "\n",
    "\n"
   ]
  },
  {
   "cell_type": "code",
   "execution_count": 192,
   "metadata": {
    "scrolled": true
   },
   "outputs": [
    {
     "name": "stdout",
     "output_type": "stream",
     "text": [
      "0.3166294242726129\n"
     ]
    },
    {
     "data": {
      "image/png": "[encoded data removed]",
      "text/plain": [
       "<Figure size 432x288 with 1 Axes>"
      ]
     },
     "metadata": {},
     "output_type": "display_data"
    }
   ],
   "source": [
    "corr = df['charisma'].corr(df['rank'])\n",
    "print(corr)\n",
    "df.plot.scatter(x='charisma', y='rank', c='r');"
   ]
  },
  {
   "cell_type": "markdown",
   "metadata": {},
   "source": [
    "In general, people will vote for the leader who embodies their party’s values. However, Charismatic leaders appeal to the emotions of the audience. If people are undecided, voting for a candidate is no longer about policy or experience, it will come down to charisma. People will tend to vote for the more charismatic. But what reallu accounts for all this superficial reasoning? \n",
    "\n",
    "\n",
    "The concept of 'charisma' was introduced in the study of politics and society by Max Weber, who borrowed it from the realm of religion. \n",
    "\n",
    "Weber defined charisma as :\n",
    "\n",
    "\n",
    " \"A certain quality of an individual personality by virtue of which he is considered extraordinary and treated as endowed with supernatural, superhuman, or at least specifically exceptional powers or qualities. These are such as are not accessible to the ordinary person, but are regarded as of divine origin or as exemplary, and on the basis of them the individual concerned is treated as a ‘leader' \".\n",
    "\n",
    "\n",
    "Charsmatic leaders are often associated with knowing what is best, outperforming in certian aspects, saviors of the day, but really all that charisma does is enable you to influence people. As far as actually being effective, it doesn't make you better at making good decisions that will steer a country in the right direction.\n",
    "\n",
    "This brings us to conclude that no matter how charming a president or a candidate for presidency is during times of elections, debates or speeches, it doesn't say anything about how good they'll perform later on if they're elected. There's nothing about being a charismatic president that makes them more effective as a problem solver. \n",
    "~\n",
    " "
   ]
  },
  {
   "cell_type": "code",
   "execution_count": 195,
   "metadata": {},
   "outputs": [],
   "source": [
    "df.to_csv('The-Data-Behind-Presidental-Charisma.csv')"
   ]
  },
  {
   "cell_type": "code",
   "execution_count": null,
   "metadata": {},
   "outputs": [],
   "source": [
    "url_rank = 'https://www.c-span.org/presidentsurvey2017/?page=overall'\n",
    "r = requests.get(url_rank).text\n",
    "soup = BeautifulSoup(r,'lxml')\n",
    "table = soup.find('table')\n",
    "A=[]\n",
    "B=[]\n",
    "\n",
    "for row in table.findAll('tr'):\n",
    "    cells = row.findAll('td')\n",
    "    if len(cells)==5: #Only extract date column with no heading\n",
    "            A.append(cells[0].find(text=True)) #president name \n",
    "            B.append(cells[1].find(text=True)) # ranking "
   ]
  },
  {
   "cell_type": "code",
   "execution_count": null,
   "metadata": {},
   "outputs": [],
   "source": []
  },
  {
   "cell_type": "markdown",
   "metadata": {},
   "source": [
    "# References \n",
    "#### Flesch Readibilty Ease \n",
    "\n",
    "https://datawarrior.wordpress.com/2016/03/29/flesch-kincaid-readability-measure/\n",
    "\n",
    "https://en.wikipedia.org/wiki/Flesch%E2%80%93Kincaid_readability_tests\n",
    "\n",
    "#### Excutive Orders\n",
    "https://www.history.com/topics/executive-order\n",
    "\n",
    "https://www.cnbc.com/2014/01/28/executive-orders-what-they-are-and-how-they-work.html\n",
    "\n",
    "#### Presidental Historian Surveys \n",
    "\n",
    "https://www.c-span.org/presidentsurvey2017/?page=overall\n",
    "\n",
    "\n",
    "#### What Voters Want \n",
    "https://www.nytimes.com/2016/01/26/opinion/campaign-stops/what-voters-want.html \n",
    "\n",
    "\n",
    "#### Voting for a candidate is not about policy or experience -- it's about charisma, researchers find\n",
    "\n",
    "http://news.cornell.edu/stories/2008/10/voters-make-snap-judgments-based-candidates-charisma\n",
    "\n",
    "#### Voting Behavior\n",
    "\n",
    "https://www.icpsr.umich.edu/icpsrweb/instructors/setups/voting.jsp"
   ]
  }
 ],
 "metadata": {
  "kernelspec": {
   "display_name": "Python 3",
   "language": "python",
   "name": "python3"
  },
  "language_info": {
   "codemirror_mode": {
    "name": "ipython",
    "version": 3
   },
   "file_extension": ".py",
   "mimetype": "text/x-python",
   "name": "python",
   "nbconvert_exporter": "python",
   "pygments_lexer": "ipython3",
   "version": "3.7.0"
  }
 },
 "nbformat": 4,
 "nbformat_minor": 2
}
